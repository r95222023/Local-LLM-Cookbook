{
 "cells": [
  {
   "cell_type": "markdown",
   "id": "bd2b2eba-b7fd-4856-960f-f2cbadcc12af",
   "metadata": {},
   "source": [
    "# Building a Tavily Data Agent\n",
    "\n",
    "\n",
    "Adapted from <a href=\"https://colab.research.google.com/github/run-llama/llama-hub/blob/main/llama_hub/tools/notebooks/tavily.ipynb\" target=\"_parent\">this tutorial</a>, and the accompanying <a href=\"https://colab.research.google.com/github/run-llama/llama-hub/blob/main/llama_hub/tools/notebooks/tavily.ipynb\" target=\"_parent\">Colab link</a>.\n",
    "\n",
    "This notebook guides you through using the LLM tools provided by the [Tavily API](https://app.tavily.com/) to enable LLMs to easily search and retrieve relevant content from the Internet.\n",
    "\n",
    "To get started, you will need a [Tavily API key](https://app.tavily.com), and you might need an [OpenAI api key](https://platform.openai.com/account/api-keys) if you want to use models from openai.\n",
    "\n",
    "We will import the relevant agents and tools and pass them our keys here:"
   ]
  },
  {
   "cell_type": "code",
   "execution_count": null,
   "id": "e6b2678c-09a5-4bf5-b45a-0543d2c100f9",
   "metadata": {},
   "outputs": [],
   "source": [
    "# !pip install llama-index llama-hub llama-index-agent-lats tavily-python llama-index-llms-ollama llama-index-tools-tavily_research"
   ]
  },
  {
   "cell_type": "code",
   "execution_count": 28,
   "id": "c0b38c31-15b3-422f-b359-2032b9a164d4",
   "metadata": {},
   "outputs": [],
   "source": [
    "import getpass\n",
    "import os\n",
    "\n",
    "\n",
    "def _set_if_undefined(var: str) -> None:\n",
    "    if os.environ.get(var):\n",
    "        return\n",
    "    os.environ[var] = getpass.getpass(var)\n",
    "\n",
    "# _set_if_undefined(\"OPENAI_API_KEY\")\n",
    "_set_if_undefined(\"TAVILY_API_KEY\")"
   ]
  },
  {
   "cell_type": "code",
   "execution_count": null,
   "id": "ce6c6e5d-f61e-461e-8e8d-99d27fb3fcaf",
   "metadata": {
    "ExecuteTime": {
     "end_time": "2023-10-25T09:55:23.881158Z",
     "start_time": "2023-10-25T09:55:23.865840Z"
    }
   },
   "outputs": [],
   "source": [
    "# Set up OpenAI\n",
    "# import openai\n",
    "# from llama_index.agent import OpenAIAgent\n",
    "# openai.api_key = \"sk-api-key\""
   ]
  },
  {
   "cell_type": "code",
   "execution_count": 99,
   "id": "c33457cd-f885-4ab4-8eb9-de6f359d6a36",
   "metadata": {},
   "outputs": [],
   "source": [
    "# !pip install llama-index-llms-ollama\n",
    "# %pip install llama-index-llms-langchain\n",
    "\n",
    "# use ollama\n",
    "from llama_index.llms.ollama import Ollama\n",
    "\n",
    "llm = Ollama(model=\"llama3:instruct\", request_timeout=600.0)\n",
    "\n",
    "# !pip install llama-index-llms-lmstudio\n",
    "# from llama_index.llms.lmstudio import LMStudio\n",
    "# from llama_index.core.base.llms.types import ChatMessage, MessageRole\n",
    "\n",
    "# use LMStudio\n",
    "# llm = LMStudio(\n",
    "#     model_name=\"llama3:instruct\",\n",
    "#     base_url=\"http://localhost:1234/v1\",\n",
    "#     temperature=0.1,\n",
    "#     request_timeout=600.0\n",
    "# )\n",
    "\n",
    "# use langchain ollama\n",
    "# from llama_index.llms.langchain import LangChainLLM\n",
    "# from langchain_community.chat_models import ChatOllama\n",
    "# from langchain_experimental.llms.ollama_functions import OllamaFunctions\n",
    "\n",
    "# # llm = ChatOllama(model=\"llama3:instruct\", temperature=0.1)\n",
    "\n",
    "# llm_with_tools = OllamaFunctions(model=\"llama3:instruct\", format=\"json\")\n",
    "\n",
    "# llm = LangChainLLM(llm=llm_with_tools)"
   ]
  },
  {
   "cell_type": "code",
   "execution_count": 100,
   "id": "3ab26eee-63ed-42ec-972a-419a9a5c1d82",
   "metadata": {
    "ExecuteTime": {
     "end_time": "2023-10-25T09:55:23.881158Z",
     "start_time": "2023-10-25T09:55:23.865840Z"
    }
   },
   "outputs": [
    {
     "name": "stdout",
     "output_type": "stream",
     "text": [
      "search\n"
     ]
    }
   ],
   "source": [
    "# Set up Tavily tool\n",
    "from llama_index.tools.tavily_research import TavilyToolSpec\n",
    "tavily_tool = TavilyToolSpec(\n",
    "    api_key=os.environ[\"TAVILY_API_KEY\"],\n",
    ")\n",
    "\n",
    "tavily_tool_list = tavily_tool.to_tool_list()\n",
    "for tool in tavily_tool_list:\n",
    "    print(tool.metadata.name)"
   ]
  },
  {
   "cell_type": "markdown",
   "id": "fe8e3012-bab0-4e55-858a-e3721282552c",
   "metadata": {},
   "source": [
    "## Testing the Tavily search tool\n",
    "\n",
    "We've imported our OpenAI agent, set up the api key, and initialized our tool. Let's test out the tool before setting up our Agent.\n"
   ]
  },
  {
   "cell_type": "code",
   "execution_count": 30,
   "id": "e64da618-b4ab-42d7-903d-f4eeb624f43c",
   "metadata": {
    "ExecuteTime": {
     "end_time": "2023-10-25T09:55:40.329249Z",
     "start_time": "2023-10-25T09:55:25.783993Z"
    }
   },
   "outputs": [
    {
     "data": {
      "text/plain": [
       "[Document(id_='b84aedef-b878-49c9-9fff-e397ba6aa928', embedding=None, metadata={'url': 'https://www.today.com/news/what-is-burning-man-flood-death-rcna103231'}, excluded_embed_metadata_keys=[], excluded_llm_metadata_keys=[], relationships={}, text='\"\\nAn update on BurningMan.org posted the night of Sept. 3 offered those still on site a \"Wet Playa Survival Guide\" with tips, as well as an update saying that conditions were \"improving\" and that roads in Black Rock City were expected to open on Sept. 4 for \"Exodus.\"\\n\"Thank goodness this community knows how to take care of each other,\" the Instagram page for Burning Man Information Radio wrote on a post predicting more rain.\\nNeal Katyal, Chris Rock and others detail their ‘escape’ from Black Rock City\\nComedian Chris Rock and Diplo, producer and DJ,\\xa0were among this year\\'s Burning Man attendees. Why are people stranded at Burning Man?\\nEach year participants in the Burning Man event gather for nine days in an \"annual experiment in temporary community dedicated to Radical Self-expression and Radical Self-reliance,\" according to burningman.org.\\nHeld in Nevada since 1991, the festival sees dreamers, artists, tech founders and celebrities — among others — converge to create a temporary community in the desert.\\n By Sept. 1, organizers tweeted on X that the more than 70,000 attendees of Burning Man should \"help each other stay safe\" and that the gate and airport in and out of the area was closed due to the impossibility for vehicles to \"traverse the playa. In 2014, a 29-year-old woman was hit by a bus outside of Black Rock City, and a motorcycle accident claimed the life of a friend of the Burning Man founders back in 1996, according to an article in the Reno Gazette Journal.\\n \"A fan offered Chris Rock and I a ride out of burning man in the back of a pick up,\" Diplo wrote in a text overlay of the video.\\n', mimetype='text/plain', start_char_idx=None, end_char_idx=None, text_template='{metadata_str}\\n\\n{content}', metadata_template='{key}: {value}', metadata_seperator='\\n'),\n",
       " Document(id_='e62771d2-6107-43b1-80c7-d5f4be88b67b', embedding=None, metadata={'url': 'https://www.cnn.com/us/live-news/nevada-desert-burning-man-weather-rain-09-03-23/index.html'}, excluded_embed_metadata_keys=[], excluded_llm_metadata_keys=[], relationships={}, text='The festival’s 2023 theme is “Animalia,” which the Burning Man website explains, “will celebrate the animal world and our place in it — animals real and imagined, mythic and remembered — and explore the curious mental constructs that allow us to believe that imagined animals are real, real animals are imagined, and that somehow, despite all evidence to the contrary, mankind is somehow not part of the animal kingdom.”\\n Thousands stranded at Burning Man festival after heavy rains\\nBy Maureen Chowdhury, Steve Almasy and Matt Meyer, CNN\\nWhat we\\'re covering\\nPresident Biden has been briefed on the situation at Burning Man festival\\nFrom CNN\\'s Betsy Klein\\nPresident Joe Biden was briefed Sunday on the situation at the Burning Man festival in Black Rock Desert, Nevada, according to a White House official.\\n View Katyal\\'s post below:\\nSome of the 70,000 people stranded at Burning Man are walking out of the site, sheriff\\'s office says\\nFrom CNN\\'s Melissa Alonso\\nThere are currently \"a little over 70,000\" people stranded at the Burning Man festival in Nevada due to the mud and flooding, Pershing County Sheriff’s Sgt. Burning Man organizers working to provide cell service and medical resources as attendees shelter in place\\nFrom CNN\\'s Nouran Salahieh\\xa0and\\xa0Emma Tucker\\nBurning Man organizers say they are placing mobile cell trailers around the battered festival grounds, configuring their Wi-Fi system for public access, and sending buses to nearby Gerlach, Nevada, to pick up people who might have walked out of the desert and ferry them to Reno.\\n Festivalgoers are managing to have a good time despite being stuck in the mud, attendee says\\nDawne Looney, a Burning Man festival attendee, says people are making the best of the situation despite the heavy rain and mud stranding an estimated 70,000 of them in the desert.\\n', mimetype='text/plain', start_char_idx=None, end_char_idx=None, text_template='{metadata_str}\\n\\n{content}', metadata_template='{key}: {value}', metadata_seperator='\\n'),\n",
       " Document(id_='040e15ff-f68d-4156-bafc-2e882f52de41', embedding=None, metadata={'url': 'https://www.vox.com/culture/2023/9/6/23861675/burning-man-2023-mud-stranded-climate-change-playa-foot'}, excluded_embed_metadata_keys=[], excluded_llm_metadata_keys=[], relationships={}, text='Black Rock City sits in the middle of the Pyramid Lake Paiute reservation; earlier this year, while emphasizing his tribe’s friendly relationship to the fest, chairman James Phoenix of the Pyramid Lake Paiute Tribe described annoyances like trash and debris left behind for the locals to deal with, aircraft dipping into the lake and off-limits wilderness areas, and an ever-increasing influx of traffic into the area.\\n When its founders first burned a man in effigy on a San Francisco beach in 1986, Burning Man may have been about getting back to basics, but over the years, the reality of the event has shifted from the well-kept secret of artists and adventurers, to a frivolous gathering of ultra-rich tech bros and their friends, to a gone-mainstream clusterfuck overrun by new burners seeking new experiences. “I’d argue that real ‘radical self-reliance’ is what’s happening in the high desert of the Antelope Valley, where food and water must be conserved year-round, and where, without a working generator, the nearest source of electricity is a half-hour walk away,” Erika Smith wrote for the LA Times regarding homeless encampments established in the wake of Hurricane Hilary.\\n The Latest\\nMary Kay Letourneau, the grim inspiration for\\xa0May December, explained\\nYou should have more friends of all ages\\nHow to fit volunteering into a hectic schedule\\nMany Americans with dementia can’t get the hospice care they need\\nDon’t wait: The case for giving sooner rather than later\\nWant to help animals? Being trapped at Burning Man seems almost as bad as being trapped in a conversation with someone who went to Burning Man\\nMoreover, as with the conversation surrounding the submersible tragedy, many have been quick to point out that the plight of wealthy attendees having to extend their port-a-potty usage obscures real emergencies and social concerns.', mimetype='text/plain', start_char_idx=None, end_char_idx=None, text_template='{metadata_str}\\n\\n{content}', metadata_template='{key}: {value}', metadata_seperator='\\n')]"
      ]
     },
     "execution_count": 30,
     "metadata": {},
     "output_type": "execute_result"
    }
   ],
   "source": [
    "tavily_tool.search(\"What happened in the latest Burning Man festival?\", max_results=3)"
   ]
  },
  {
   "cell_type": "markdown",
   "id": "1210906d-87a7-466a-9712-1d17dba2c2ec",
   "metadata": {},
   "source": [
    "### Using the Search tool in an Agent\n",
    "\n",
    "We can create an agent with access to the Tavily search tool start testing it out:"
   ]
  },
  {
   "cell_type": "code",
   "execution_count": 5,
   "id": "9d88c2ee-184a-4371-995b-a086b34db24f",
   "metadata": {
    "ExecuteTime": {
     "end_time": "2023-10-25T09:55:48.339621Z",
     "start_time": "2023-10-25T09:55:48.332915Z"
    }
   },
   "outputs": [],
   "source": [
    "agent = OpenAIAgent.from_tools(\n",
    "    tavily_tool_list,\n",
    ")"
   ]
  },
  {
   "cell_type": "code",
   "execution_count": 7,
   "id": "f69a53fd-55c4-4e18-8fbe-6a29d5f3cef0",
   "metadata": {
    "ExecuteTime": {
     "end_time": "2023-10-25T09:55:57.109392Z",
     "start_time": "2023-10-25T09:55:50.456904Z"
    }
   },
   "outputs": [
    {
     "name": "stdout",
     "output_type": "stream",
     "text": [
      "# Analysis of the Latest Burning Man Floods\n",
      "\n",
      "## Introduction\n",
      "The Burning Man festival, held annually in the Black Rock Desert of Nevada, is known for its unique art installations, music performances, and community spirit. However, in recent years, the festival has faced challenges due to extreme weather conditions, including floods. This analysis aims to provide a deep understanding of the latest Burning Man floods, their causes, impacts, and the response of the festival organizers.\n",
      "\n",
      "## Overview of the Latest Burning Man Floods\n",
      "According to a [news article](https://www.today.com/news/what-is-burning-man-flood-death-rcna103231), the latest Burning Man festival experienced heavy rains that resulted in muddy conditions, making it difficult for festivalgoers to leave the Nevada desert. The article mentions that tens of thousands of festival attendees were slowly making their way home as the muddy conditions made it nearly impossible to leave over the weekend. The festival organizers provided a \"Wet Playa Survival Guide\" with tips to those still on-site, indicating that the conditions were improving.\n",
      "\n",
      "## Causes of the Floods\n",
      "1. Heavy Rainfall: The primary cause of the floods at Burning Man was heavy rainfall. The article mentions that the festival experienced significant rain, leading to muddy conditions and making it challenging for attendees to navigate the desert.\n",
      "2. Flash Floods: The Black Rock Desert is prone to flash floods due to its flat topography and lack of vegetation. When rainwater accumulates faster than it can be absorbed or evaporated, it quickly forms torrents that flood the festival grounds.\n",
      "\n",
      "## Impacts of the Floods\n",
      "1. Transportation Challenges: The muddy conditions caused by the floods made it difficult for festivalgoers to leave the desert. This created transportation challenges and delays for tens of thousands of attendees.\n",
      "2. Disruption of Activities: The floods disrupted the planned activities and performances at Burning Man. The muddy conditions may have made it challenging for artists and performers to showcase their work, impacting the overall experience of the festival.\n",
      "3. Safety Risks: The muddy and slippery conditions posed safety risks to festival attendees. The article does not mention any specific incidents, but the increased risk of slips, falls, and injuries is a concern during such weather conditions.\n",
      "\n",
      "## Response of the Festival Organizers\n",
      "The article does not provide detailed information about the specific response of the festival organizers to the floods. However, it mentions that the festival organizers provided a \"Wet Playa Survival Guide\" with tips to those still on-site, indicating that they were actively addressing the challenges posed by the floods. It is likely that the organizers were monitoring the situation, providing updates, and taking necessary measures to ensure the safety and well-being of the attendees.\n",
      "\n",
      "## Conclusion\n",
      "The latest Burning Man floods, caused by heavy rainfall and resulting in muddy conditions, created challenges for festivalgoers and disrupted the planned activities at the event. The transportation difficulties, disruption of activities, and safety risks highlight the impact of extreme weather events on the festival. While the specific response of the festival organizers is not detailed in the available information, it can be assumed that they took measures to address the challenges and ensure the safety of the attendees. As extreme weather events become more frequent and intense, it is crucial for the festival organizers to continue evaluating and implementing strategies to mitigate the impact of floods and other weather-related challenges at Burning Man.\n"
     ]
    }
   ],
   "source": [
    "print(\n",
    "    agent.chat(\n",
    "        \"Write a deep analysis in markdown syntax about the latest burning man floods\"\n",
    "    )\n",
    ")"
   ]
  },
  {
   "cell_type": "code",
   "execution_count": 61,
   "id": "555c6c1a",
   "metadata": {},
   "outputs": [],
   "source": [
    "from llama_index.agent.lats import LATSAgentWorker\n",
    "\n",
    "tools = [tavily_tool]"
   ]
  },
  {
   "cell_type": "code",
   "execution_count": 101,
   "id": "d39ffa06-9e34-443d-bec1-2cfd4a15b8c6",
   "metadata": {},
   "outputs": [],
   "source": [
    "from llama_index.core.agent import AgentRunner\n",
    "# LATSAgentWorker(\n",
    "#     tools: Sequence[BaseTool]\t| Tools to use for reasoning\trequired\n",
    "#     llm: LLM | LLM to use   required\n",
    "#     callback_manager: CallbackManager |\tCallback manager    None\n",
    "#     tool_retriever: Optional[ObjectRetriever[BaseTool]] | Tool retriever\tNone\n",
    "#     verbose : bool | Whether to print out reasoning steps\tFalse)\n",
    "\n",
    "# class methods: from_tools(tools: Optional[Sequence[BaseTool]] = None, \n",
    "#                           tool_retriever: Optional[ObjectRetriever[BaseTool]] = None, \n",
    "#                           llm: Optional[LLM] = None, callback_manager: Optional[CallbackManager] = None, \n",
    "#                           verbose: bool = False, **kwargs: Any) -> CustomSimpleAgentWorker\n",
    "# check for more methods: https://docs.llamaindex.ai/en/stable/api_reference/agent/#llama_index.core.agent.CustomSimpleAgentWorker\n",
    "\n",
    "agent_worker = LATSAgentWorker.from_tools(\n",
    "    tavily_tool.to_tool_list(),\n",
    "    llm=llm,\n",
    "    num_expansions=2,\n",
    "    max_rollouts=2,  # using -1 for unlimited rollouts\n",
    "    verbose=False,\n",
    ")\n",
    "# check https://llamahub.ai/l/agent/llama-index-agent-lats?from=agent\n",
    "agent = AgentRunner(agent_worker)\n",
    "\n",
    "# agent = agent.as_worker()"
   ]
  },
  {
   "cell_type": "code",
   "execution_count": null,
   "id": "facfc04e-6412-4f2a-905a-4e189260fb37",
   "metadata": {},
   "outputs": [],
   "source": [
    "# !pip install nest-asyncio\n",
    "import nest_asyncio\n",
    "nest_asyncio.apply()\n",
    "\n",
    "res = agent.chat(question)\n",
    "res"
   ]
  },
  {
   "cell_type": "code",
   "execution_count": null,
   "id": "3fd51985-a7fa-47d9-9923-76e4dad5e12c",
   "metadata": {},
   "outputs": [],
   "source": [
    "task = agent.create_task(question)\n",
    "step_output = agent.run_step(task.task_id)\n",
    "while not step_output.is_last:\n",
    "    try:\n",
    "        step_output = agent.run_step(task.task_id)\n",
    "    except Exception as e:\n",
    "        print(e)\n",
    "\n",
    "response = agent.finalize_response(task.task_id)\n",
    "\n",
    "# Warnig this method is computational expensive, use with caution."
   ]
  }
 ],
 "metadata": {
  "kernelspec": {
   "display_name": "Python (llama3)",
   "language": "python",
   "name": "llama3"
  },
  "language_info": {
   "codemirror_mode": {
    "name": "ipython",
    "version": 3
   },
   "file_extension": ".py",
   "mimetype": "text/x-python",
   "name": "python",
   "nbconvert_exporter": "python",
   "pygments_lexer": "ipython3",
   "version": "3.10.14"
  }
 },
 "nbformat": 4,
 "nbformat_minor": 5
}
