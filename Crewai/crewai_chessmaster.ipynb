{
 "cells": [
  {
   "cell_type": "markdown",
   "metadata": {},
   "source": [
    "# crewAI Chessmaster"
   ]
  },
  {
   "cell_type": "code",
   "execution_count": 1,
   "metadata": {},
   "outputs": [],
   "source": [
    "import chess\n",
    "import chess.engine"
   ]
  },
  {
   "cell_type": "markdown",
   "metadata": {},
   "source": [
    "## Assemble the crew for a chess game"
   ]
  },
  {
   "cell_type": "code",
   "execution_count": 20,
   "metadata": {},
   "outputs": [],
   "source": [
    "from crewai import Agent, Crew, Process, Task\n",
    "from crewai.project import CrewBase, agent, crew, task\n",
    "\n",
    "# Uncomment the following line to use an example of a custom tool\n",
    "# from chess.tools.custom_tool import MyCustomTool\n",
    "\n",
    "# Check our tools documentations for more information on how to use them\n",
    "# from crewai_tools import SerperDevTool\n",
    "\n",
    "class ChessCrew:\n",
    "\t\"\"\" ChessCrew class is responsible for creating a Crew of Agents and Tasks to predict the best next move in a chess game.\n",
    "\t\tAttributes:\n",
    "\t\t\tllm (object): Language model used by the Agents.\n",
    "\t\t\ttools (list, optional): List of tools to be used by the Agents. Defaults to None.\n",
    "\t\"\"\"\n",
    "\tdef __init__(self, llm, tools=None):\n",
    "\t\tself.tools = tools or []\n",
    "\t\tself.llm = llm\n",
    "\t\tself.task_description = \"\"\"Conduct a thorough analysis of board state {board} and moves history so far {moves}\n",
    "\t\t\t\t\t\t\\n If needed, search the internet with query ```what's the best move for {board}```\\n\n",
    "\t\t\t\t\t\tPredict the best next move\n",
    "\t\t\t\t\t\tHere is the list of legal move:{legal_moves}\\n\n",
    "\t\t\t\t\t\tHere is the feedback {feedback}\"\"\" if tools else \"\"\"Conduct a thorough analysis of board state {board} and moves history so far {moves}\n",
    "\t\t\t\t\t\tPredict the best next move\n",
    "\t\t\t\t\t\tHere is the list of legal move:{legal_moves}\\n\n",
    "\t\t\t\t\t\tHere is the feedback {feedback}\"\"\"\n",
    "\t\tself.chess_master = Agent(\n",
    "\t\t\t\t\trole='Chess Grandmaster',\n",
    "\t\t\t\t\tgoal='Predict best next move to win the chess game',\n",
    "\t\t\t\t\tbackstory=\"\"\"As one of the greatest chess players of all time, \n",
    "\t\t\t\t\t\tKnown for your deep strategic understanding, innovative approaches, and fierce competitive spirit.\"\"\",\n",
    "\t\t\t\t\ttools=self.tools, # Example of custom tool, loaded on the beginning of file\n",
    "\t\t\t\t\tllm=self.llm,\n",
    "\t\t\t\t\tverbose=True\n",
    "\t\t\t\t)\n",
    "\t\tself.next_move = Task(\n",
    "\t\t\t\t\tdescription=self.task_description,\n",
    "\t\t\t\t\texpected_output='The best next move. This best move can be anyone in the legal move list not just the first one. And only output the move, nothing else.',\n",
    "\t\t\t\t\tagent=self.chess_master\n",
    "\t\t\t\t)\n",
    "\t\tself.crew = Crew(\n",
    "\t\t\t\t\tagents=[self.chess_master], # Automatically created by XXX @agent decorator\n",
    "\t\t\t\t\ttasks=[self.next_move], # Automatically created by XXX @task decorator\n",
    "\t\t\t\t\tprocess=Process.sequential,\n",
    "\t\t\t\t\tverbose=2,\n",
    "\t\t\t\t\t# process=Process.hierarchical, # In case you wanna use that instead XXXXXXXXXXXXXXXXXXXXXXXXXXXXXXXXXXXXXXXXXXXX\n",
    "\t\t\t\t)"
   ]
  },
  {
   "cell_type": "markdown",
   "metadata": {},
   "source": [
    "## Chess Game\n",
    "### Parameters\n",
    "`ai_player`\n",
    " (optional, default is 'llm'): This parameter specifies the type of AI player you want to play against.\n",
    "\n",
    "\n",
    "`board`\n",
    " (optional, default is \n",
    "None\n",
    "): This parameter allows you to provide an initial chess board state in FEN.\n",
    "\n",
    "`engine_config`\n",
    " (optional, default is \n",
    "None\n",
    "): This parameter is used to configure the chess engine (Stockfish) if \n",
    "ai_player\n",
    " is set to 'engine'.\n",
    "\n",
    "`tools` (optional, default is \n",
    "None\n",
    "): This parameter allows you to utilize an ai llm agent with tools.\n",
    "\n",
    "\n"
   ]
  },
  {
   "cell_type": "code",
   "execution_count": 3,
   "metadata": {},
   "outputs": [],
   "source": [
    "class ChessGame:\n",
    "    # players can be llm, engine, user\n",
    "    def __init__(self, ai_player='llm', llm=None, board=None, engine_config=None, tools=None):\n",
    "        self.ai_player = ai_player\n",
    "        self.tools = tools\n",
    "        self.llm = llm\n",
    "        if engine_config is not None:\n",
    "            # engine_config = {\"path\": \"/opt/homebrew/Cellar/stockfish/16/bin/stockfish\", \"skill_lv\": 0}\n",
    "            # Initialize the chess engine\n",
    "            self.engine = chess.engine.SimpleEngine.popen_uci(engine_config['path'])\n",
    "            # Configure Stockfish to a specific skill level\n",
    "            self.engine.configure({\"Skill Level\": 0})\n",
    "\n",
    "        # Initialize a chess board\n",
    "        self.board = board or chess.Board()\n",
    "        self.moves = []\n",
    "\n",
    "    def get_agent_move(self):\n",
    "        feedback = \"\"\n",
    "        board = self.board\n",
    "        while True:\n",
    "            # Replace with your inputs, it will automatically interpolate any tasks and agents information\n",
    "            inputs = {\n",
    "                'board': board.fen(),\n",
    "                'moves': self.moves,\n",
    "                'legal_moves': \",\".join(\n",
    "                    [str(_move) for _move in board.legal_moves]),\n",
    "                'feedback': feedback,\n",
    "            }\n",
    "            chess_crew = ChessCrew(self.llm, self.tools).crew\n",
    "            _result = chess_crew.kickoff(inputs=inputs)\n",
    "            next_move = _result\n",
    "\n",
    "            try:\n",
    "                _move = chess.Move.from_uci(next_move)\n",
    "\n",
    "                if _move in board.legal_moves:\n",
    "                    return _move\n",
    "                else:\n",
    "                    feedback = f\"Agent's generated move {_move} is not valid currently.\"\n",
    "            except Exception as e:\n",
    "                feedback = \"Failed to parse the Agent's generated move. Retrying...\"\n",
    "\n",
    "    def next(self, user_input=None):\n",
    "        board = self.board\n",
    "        move = None\n",
    "        if user_input:\n",
    "            try:\n",
    "                move = chess.Move.from_uci(user_input)\n",
    "            except:\n",
    "                print(\"Invalid move, please try again\")\n",
    "        elif self.ai_player == 'llm':\n",
    "            move = self.get_agent_move()\n",
    "        elif self.ai_player == 'engine':\n",
    "            result = self.engine.play(board, chess.engine.Limit(time=0.001))\n",
    "            move = result.move\n",
    "            \n",
    "\n",
    "        self.board.push(move)\n",
    "        self.moves.append(move.uci())  # Store UCI move in the list\n",
    "\n",
    "        return move\n",
    "\n",
    "    def show_board(self):\n",
    "        return print(self.board)\n",
    "    \n",
    "\n",
    "    def auto_play(self):\n",
    "        board = self.board\n",
    "        while not board.is_game_over():\n",
    "            move = self.next()\n",
    "            print(f'{\"White\" if board.turn else \"Black\"} made a move: {move.uci()}')\n",
    "\n",
    "        # Check the result of the game\n",
    "        winner = \"\"\n",
    "        if board.is_checkmate():\n",
    "            if board.turn:\n",
    "                winner = \"Black\"\n",
    "            else:\n",
    "                winner = \"White\"\n",
    "        elif board.is_stalemate() or board.is_insufficient_material() or board.is_seventyfive_moves() or board.is_fivefold_repetition() or board.is_variant_draw():\n",
    "            winner = \"Draw\"\n",
    "\n",
    "        if winner == \"Black\":\n",
    "            return \"Black wins by checkmate.\"\n",
    "        elif winner == \"White\":\n",
    "            return \"White wins by checkmate.\"\n",
    "        else:\n",
    "            return \"The game is a draw.\""
   ]
  },
  {
   "cell_type": "code",
   "execution_count": 4,
   "metadata": {},
   "outputs": [],
   "source": [
    "from langchain_community.chat_models import ChatOllama\n",
    "# from langchain_experimental.llms.ollama_functions import OllamaFunctions\n",
    "\n",
    "llm = ChatOllama(model=\"llama3.1\", temperature=0.1)\n",
    "# llm = OllamaFunctions(model=\"llama3.1\", format=\"json\")"
   ]
  },
  {
   "cell_type": "code",
   "execution_count": 5,
   "metadata": {},
   "outputs": [],
   "source": [
    "chess_master = ChessGame(ai_player='llm', llm=llm)"
   ]
  },
  {
   "cell_type": "code",
   "execution_count": 6,
   "metadata": {},
   "outputs": [
    {
     "data": {
      "text/plain": [
       "Move.from_uci('e2e3')"
      ]
     },
     "execution_count": 6,
     "metadata": {},
     "output_type": "execute_result"
    }
   ],
   "source": [
    "chess_master.next(\"e2e3\")"
   ]
  },
  {
   "cell_type": "code",
   "execution_count": 7,
   "metadata": {},
   "outputs": [
    {
     "name": "stdout",
     "output_type": "stream",
     "text": [
      "r n b q k b n r\n",
      "p p p p p p p p\n",
      ". . . . . . . .\n",
      ". . . . . . . .\n",
      ". . . . . . . .\n",
      ". . . . P . . .\n",
      "P P P P . P P P\n",
      "R N B Q K B N R\n"
     ]
    }
   ],
   "source": [
    "chess_master.show_board()"
   ]
  },
  {
   "cell_type": "code",
   "execution_count": 8,
   "metadata": {},
   "outputs": [
    {
     "name": "stdout",
     "output_type": "stream",
     "text": [
      "\u001b[1m\u001b[95m [2024-08-01 14:38:53][DEBUG]: == Working Agent: Chess Grandmaster\u001b[00m\n",
      "\u001b[1m\u001b[95m [2024-08-01 14:38:53][INFO]: == Starting Task: Conduct a thorough analysis of board state rnbqkbnr/pppppppp/8/8/8/4P3/PPPP1PPP/RNBQKBNR b KQkq - 0 1 and moves history so far ['e2e3']\n",
      "\t\t\t\t\t\tPredict the best next move\n",
      "\t\t\t\t\t\tHere is the list of legal move:g8h6,g8f6,b8c6,b8a6,h7h6,g7g6,f7f6,e7e6,d7d6,c7c6,b7b6,a7a6,h7h5,g7g5,f7f5,e7e5,d7d5,c7c5,b7b5,a7a5\n",
      "\n",
      "\t\t\t\t\t\tHere is the feedback \u001b[00m\n",
      "\n",
      "\n",
      "\u001b[1m> Entering new CrewAgentExecutor chain...\u001b[0m\n",
      "\u001b[32;1m\u001b[1;3mThought: I now can give a great answer\n",
      "\n",
      "Final Answer: e7e6\u001b[0m\n",
      "\n",
      "\u001b[1m> Finished chain.\u001b[0m\n",
      "\u001b[1m\u001b[92m [2024-08-01 14:38:56][DEBUG]: == [Chess Grandmaster] Task output: e7e6\n",
      "\n",
      "\u001b[00m\n"
     ]
    },
    {
     "data": {
      "text/plain": [
       "Move.from_uci('e7e6')"
      ]
     },
     "execution_count": 8,
     "metadata": {},
     "output_type": "execute_result"
    }
   ],
   "source": [
    "chess_master.next()"
   ]
  },
  {
   "cell_type": "code",
   "execution_count": 9,
   "metadata": {},
   "outputs": [
    {
     "name": "stdout",
     "output_type": "stream",
     "text": [
      "r n b q k b n r\n",
      "p p p p . p p p\n",
      ". . . . p . . .\n",
      ". . . . . . . .\n",
      ". . . . . . . .\n",
      ". . . . P . . .\n",
      "P P P P . P P P\n",
      "R N B Q K B N R\n"
     ]
    }
   ],
   "source": [
    "chess_master.show_board()"
   ]
  },
  {
   "cell_type": "markdown",
   "metadata": {},
   "source": [
    "## Using Search Tool"
   ]
  },
  {
   "cell_type": "code",
   "execution_count": 10,
   "metadata": {},
   "outputs": [],
   "source": [
    "# !pip install -U langchain-community tavily-python\n",
    "\n",
    "from langchain_community.tools.tavily_search import TavilySearchResults\n",
    "# Setup environment\n",
    "\n",
    "import os\n",
    "import getpass\n",
    "\n",
    "def _set_if_undefined(var: str) -> None:\n",
    "    if os.environ.get(var):\n",
    "        return\n",
    "    os.environ[var] = getpass.getpass(var)\n",
    "\n",
    "_set_if_undefined(\"TAVILY_API_KEY\")\n",
    "# if _set_if_undefined not working, assign api key directory to the environment as follows.\n",
    "# os.environ[\"TAVILY_API_KEY\"] = \"[YOUR TAVILY API KEY HERE]\"\n",
    "\n",
    "tavily_tool = TavilySearchResults()\n"
   ]
  },
  {
   "cell_type": "code",
   "execution_count": 10,
   "metadata": {},
   "outputs": [],
   "source": [
    "from langchain_community.tools.tavily_search import TavilySearchResults\n",
    "# Setup environment\n",
    "\n",
    "import os\n",
    "\n",
    "tavily_tool = TavilySearchResults()"
   ]
  },
  {
   "cell_type": "code",
   "execution_count": 11,
   "metadata": {},
   "outputs": [],
   "source": [
    "\n",
    "chess_master = ChessGame(ai_player='llm', llm=llm, tools=[tavily_tool])"
   ]
  },
  {
   "cell_type": "code",
   "execution_count": 12,
   "metadata": {},
   "outputs": [
    {
     "data": {
      "text/plain": [
       "Move.from_uci('e2e3')"
      ]
     },
     "execution_count": 12,
     "metadata": {},
     "output_type": "execute_result"
    }
   ],
   "source": [
    "chess_master.next(\"e2e3\")"
   ]
  },
  {
   "cell_type": "code",
   "execution_count": 13,
   "metadata": {},
   "outputs": [
    {
     "name": "stdout",
     "output_type": "stream",
     "text": [
      "r n b q k b n r\n",
      "p p p p p p p p\n",
      ". . . . . . . .\n",
      ". . . . . . . .\n",
      ". . . . . . . .\n",
      ". . . . P . . .\n",
      "P P P P . P P P\n",
      "R N B Q K B N R\n"
     ]
    }
   ],
   "source": [
    "chess_master.show_board()"
   ]
  },
  {
   "cell_type": "code",
   "execution_count": 14,
   "metadata": {},
   "outputs": [
    {
     "name": "stderr",
     "output_type": "stream",
     "text": [
      "2024-08-01 14:39:11,781 - 8641229312 - __init__.py-__init__:518 - WARNING: Overriding of current TracerProvider is not allowed\n"
     ]
    },
    {
     "name": "stdout",
     "output_type": "stream",
     "text": [
      "\u001b[1m\u001b[95m [2024-08-01 14:39:11][DEBUG]: == Working Agent: Chess Grandmaster\u001b[00m\n",
      "\u001b[1m\u001b[95m [2024-08-01 14:39:11][INFO]: == Starting Task: Conduct a thorough analysis of board state rnbqkbnr/pppppppp/8/8/8/4P3/PPPP1PPP/RNBQKBNR b KQkq - 0 1 and moves history so far ['e2e3']\n",
      "\t\t\t\t\t\t\n",
      " If needed, search the internet with query ```what's the best move for rnbqkbnr/pppppppp/8/8/8/4P3/PPPP1PPP/RNBQKBNR b KQkq - 0 1```\n",
      "\n",
      "\t\t\t\t\t\tPredict the best next move\n",
      "\t\t\t\t\t\tHere is the list of legal move:g8h6,g8f6,b8c6,b8a6,h7h6,g7g6,f7f6,e7e6,d7d6,c7c6,b7b6,a7a6,h7h5,g7g5,f7f5,e7e5,d7d5,c7c5,b7b5,a7a5\n",
      "\n",
      "\t\t\t\t\t\tHere is the feedback \u001b[00m\n",
      "\n",
      "\n",
      "\u001b[1m> Entering new CrewAgentExecutor chain...\u001b[0m\n",
      "\u001b[32;1m\u001b[1;3mAction: tavily_search_results_json\n",
      "Action Input: { \"query\": \"what's the best move for rnbqkbnr/pppppppp/8/8/8/4P3/PPPP1PPP/RNBQKBNR b KQkq - 0 1\"\u001b[0m\u001b[95m \n",
      "\n",
      "[{'url': 'https://chess.stackexchange.com/questions/41016/uci-play-colors', 'content': 'Nov 17, 2022 · In startpos, the side to move is white. The startpos is just equal to a fen: rnbqkbnr/pppppppp/8/8/8/8/PPPPPPPP/RNBQKBNR w KQkq -\\xa0...'}, {'url': 'https://www.chess.com/forum/view/help-support/how-to-create-fens', 'content': 'KQkq is ability to castle for both sides. A 1 replaces pieces that have moved. But the 8/8/8/8 and how it changes accordingly is difficult to me along with the\\xa0...Missing:  best | Show results with:best'}, {'url': 'https://www.chess.com/terms/fen-chess', 'content': 'The FEN for the starting position of a chess game. The sequence \"rnbqkbnr/pppppppp/8/8/8/8/PPPPPPPP/RNBQKBNR\" describes the piece placement field of the\\xa0...Missing:  best | Show results with:best'}, {'url': 'https://www.reddit.com/r/chess/comments/269ns9/explain_like_im_five_fen_notation/', 'content': 'May 23, 2014 · Pretty self explanatory. Number of half moves since a pawn or a piece was moved. rnbqkbnr/pp1ppppp/8/2p5/4P3/8/PPPP1PPP/RNBQKBNR w KQkq c6 0.Best database option for a prefix search via a Trie-like structure?Move 3, white to play : r/a:t5_6w8gxj - RedditStockfish 8 is Very Strong : r/AnarchyChess - RedditMore results from www.reddit.com'}, {'url': 'https://chess.stackexchange.com/questions/42176/how-to-tell-which-engine-is-going-to-play-white-or-black-in-uci-protocol', 'content': 'May 22, 2023 · After the move e2e4, the side to move is now black. You may need to handle position fen <> with moves. Example: position fen rnbqkbnr/pppppppp/8\\xa0...'}]\n",
      "\u001b[00m\n",
      "\u001b[32;1m\u001b[1;3mThought:\n",
      "Action: tavily_search_results_json\n",
      "Action Input: { \"query\": \"best move for rnbqkbnr/pppppppp/8/8/8/4P3/PPPP1PPP/RNBQKBNR b KQkq - 0 1\"\u001b[0m\u001b[95m \n",
      "\n",
      "[{'url': 'https://stackoverflow.com/questions/65746496/how-to-understand-the-fen-arguments-of-chess-js', 'content': '1. The first argument is the board itself with the first 8 characters being row 8, then row 7 and so on. KQkq means white king can castle king side, w king q side, b king k side and b king q side respectively. So if it says only KQ it means only white king can castle king and queen side, black has lost its casting rights. - is no one can castle.'}, {'url': 'https://www.chessprogramming.org/Forsyth-Edwards_Notation', 'content': 'Forsyth-Edwards Notation ( FEN) describes a Chess Position. It is an one-line ASCII -string. FEN is based on a system created by Scotsman David Forsyth in the 19th century. Steven Edwards specified the FEN standard for computer chess applications as part of the Portable Game Notation [1] .'}, {'url': 'https://www.chess.com/terms/fen-chess', 'content': 'FEN is the abbreviation of Forsyth-Edwards Notation, and it is the standard notation to describe positions of a chess game. Steven J. Edwards, a computer programmer, created this notation system based on another system designed by the journalist David Forsyth. Edwards modified the older notation system so that chess software could use it.'}, {'url': 'https://support.chess.com/en/articles/8598397-what-are-pgn-fen', 'content': 'PGN (Portable Game Notation) is an easy-to-read format which records both the moves of the game (in standard algebraic notation) and any related data such as the names of the players, the winner/loser, and even the date the game was played. . Here is an example taken directly from the chess.com archives: . [Event \"Chess.com Staff Tournament #2 ...'}, {'url': 'https://lichess.org/analysis/rnbqkbnr/pppp1ppp/4p3/8/4P3/8/PPPP1PPP/RNBQKBNR_w_KQkq_-_0_1', 'content': 'Analyse chess positions and variations on an interactive chess board'}]\n",
      "\u001b[00m\n",
      "\u001b[32;1m\u001b[1;3mThought: I now know the final answer\n",
      "\n",
      "Final Answer: e7e5\u001b[0m\n",
      "\n",
      "\u001b[1m> Finished chain.\u001b[0m\n",
      "\u001b[1m\u001b[92m [2024-08-01 14:39:54][DEBUG]: == [Chess Grandmaster] Task output: e7e5\n",
      "\n",
      "\u001b[00m\n"
     ]
    },
    {
     "data": {
      "text/plain": [
       "Move.from_uci('e7e5')"
      ]
     },
     "execution_count": 14,
     "metadata": {},
     "output_type": "execute_result"
    }
   ],
   "source": [
    "chess_master.next()"
   ]
  },
  {
   "cell_type": "code",
   "execution_count": 15,
   "metadata": {},
   "outputs": [
    {
     "name": "stdout",
     "output_type": "stream",
     "text": [
      "r n b q k b n r\n",
      "p p p p . p p p\n",
      ". . . . . . . .\n",
      ". . . . p . . .\n",
      ". . . . . . . .\n",
      ". . . . P . . .\n",
      "P P P P . P P P\n",
      "R N B Q K B N R\n"
     ]
    }
   ],
   "source": [
    "chess_master.show_board()"
   ]
  }
 ],
 "metadata": {
  "kernelspec": {
   "display_name": "llama3",
   "language": "python",
   "name": "python3"
  },
  "language_info": {
   "codemirror_mode": {
    "name": "ipython",
    "version": 3
   },
   "file_extension": ".py",
   "mimetype": "text/x-python",
   "name": "python",
   "nbconvert_exporter": "python",
   "pygments_lexer": "ipython3",
   "version": "3.10.14"
  }
 },
 "nbformat": 4,
 "nbformat_minor": 2
}
