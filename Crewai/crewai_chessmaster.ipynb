{
 "cells": [
  {
   "cell_type": "markdown",
   "metadata": {},
   "source": [
    "# crewAI Chessmaster"
   ]
  },
  {
   "cell_type": "code",
   "execution_count": 1,
   "metadata": {},
   "outputs": [],
   "source": [
    "import chess\n",
    "import chess.engine"
   ]
  },
  {
   "cell_type": "code",
   "execution_count": 2,
   "metadata": {},
   "outputs": [],
   "source": [
    "from langchain_community.chat_models import ChatOllama\n",
    "# from langchain_experimental.llms.ollama_functions import OllamaFunctions\n",
    "\n",
    "llm = ChatOllama(model=\"llama3.1\", temperature=0.1)\n",
    "# llm = OllamaFunctions(model=\"llama3.1\", format=\"json\")"
   ]
  },
  {
   "cell_type": "code",
   "execution_count": 3,
   "metadata": {},
   "outputs": [],
   "source": [
    "from crewai import Agent, Crew, Process, Task\n",
    "from crewai.project import CrewBase, agent, crew, task\n",
    "\n",
    "# Uncomment the following line to use an example of a custom tool\n",
    "# from chess.tools.custom_tool import MyCustomTool\n",
    "\n",
    "# Check our tools documentations for more information on how to use them\n",
    "# from crewai_tools import SerperDevTool\n",
    "\n",
    "chess_master = Agent(\n",
    "\t\t\trole='Chess Grandmaster',\n",
    "    \t\tgoal='Predict best next move to win the chess game',\n",
    "    \t\tbackstory=\"\"\"As one of the greatest chess players of all time, \n",
    "\t\t\t\tKnown for your deep strategic understanding, innovative approaches, and fierce competitive spirit.\"\"\",\n",
    "\t\t\t# tools=[MyCustomTool()], # Example of custom tool, loaded on the beginning of file\n",
    "\t\t\tllm=llm,\n",
    "\t\t\tverbose=True\n",
    "\t\t\t)\n",
    "\n",
    "next_move = Task(\n",
    "\t\t\tdescription=\"\"\"Conduct a thorough analysis of board state {board} and moves history so far {moves}\n",
    "    \t\t\tPredict the best next move\n",
    "    \t\t\tHere is the list of legal move:{legal_moves}\\n\n",
    "    \t\t\tHere is the feedback {feedback}\"\"\",\n",
    "\t\t\texpected_output='The best next move. This best move can be anyone in the legal move list not just the first one. And only output the move, nothing else.',\n",
    "\t\t\tagent=chess_master\n",
    "\t\t\t)\n",
    "\n",
    "chess_crew = Crew(\n",
    "\t\t\tagents=[chess_master], # Automatically created by XXX @agent decorator\n",
    "\t\t\ttasks=[next_move], # Automatically created by XXX @task decorator\n",
    "\t\t\tprocess=Process.sequential,\n",
    "\t\t\tverbose=2,\n",
    "\t\t\t# process=Process.hierarchical, # In case you wanna use that instead XXXXXXXXXXXXXXXXXXXXXXXXXXXXXXXXXXXXXXXXXXXX\n",
    "\t\t)"
   ]
  },
  {
   "cell_type": "code",
   "execution_count": 4,
   "metadata": {},
   "outputs": [],
   "source": [
    "class ChessGame:\n",
    "    # players can be llm, engine, user\n",
    "    def __init__(self, ai_player='llm', board=None, engine_config=None):\n",
    "        self.ai_player = ai_player\n",
    "        if engine_config is not None:\n",
    "            # engine_config = {\"path\": \"/opt/homebrew/Cellar/stockfish/16/bin/stockfish\", \"skill_lv\": 0}\n",
    "            # Initialize the chess engine\n",
    "            self.engine = chess.engine.SimpleEngine.popen_uci(engine_config['path'])\n",
    "            # Configure Stockfish to a specific skill level\n",
    "            self.engine.configure({\"Skill Level\": 0})\n",
    "\n",
    "        # Initialize a chess board\n",
    "        self.board = board or chess.Board()\n",
    "        self.moves = []\n",
    "\n",
    "    def get_agent_move(self):\n",
    "        feedback = \"\"\n",
    "        board = self.board\n",
    "        while True:\n",
    "            # Replace with your inputs, it will automatically interpolate any tasks and agents information\n",
    "            inputs = {\n",
    "                'board': board.fen(),\n",
    "                'moves': self.moves,\n",
    "                'legal_moves': \",\".join(\n",
    "                    [str(_move) for _move in board.legal_moves]),\n",
    "                'feedback': feedback,\n",
    "            }\n",
    "\n",
    "            _result = chess_crew.kickoff(inputs=inputs)\n",
    "            next_move = _result\n",
    "\n",
    "            try:\n",
    "                _move = chess.Move.from_uci(next_move)\n",
    "\n",
    "                if _move in board.legal_moves:\n",
    "                    return _move\n",
    "                else:\n",
    "                    feedback = f\"Agent's generated move {_move} is not valid currently.\"\n",
    "            except Exception as e:\n",
    "                feedback = \"Failed to parse the Agent's generated move. Retrying...\"\n",
    "\n",
    "    # def get_user_move(self):\n",
    "    #     user_move = input(\"Possible moves are: \" + \",\".join(\n",
    "    #         [str(_move) for _move in self.board.legal_moves]\n",
    "    #     ) + \". Please make your move\")\n",
    "    #     return chess.Move.from_uci(user_move)\n",
    "\n",
    "    def next(self, user_input=None):\n",
    "        board = self.board\n",
    "        move = None\n",
    "        if user_input:\n",
    "            try:\n",
    "                move = chess.Move.from_uci(user_input)\n",
    "            except:\n",
    "                print(\"Invalid move, please try again\")\n",
    "        elif self.ai_player == 'llm':\n",
    "            move = self.get_agent_move()\n",
    "        elif self.ai_player == 'engine':\n",
    "            result = self.engine.play(board, chess.engine.Limit(time=0.001))\n",
    "            move = result.move\n",
    "            \n",
    "\n",
    "        self.board.push(move)\n",
    "        self.moves.append(move.uci())  # Store UCI move in the list\n",
    "\n",
    "        return move\n",
    "\n",
    "    def show_board(self):\n",
    "        return print(self.board)\n",
    "    \n",
    "\n",
    "    def auto_play(self):\n",
    "        board = self.board\n",
    "        while not board.is_game_over():\n",
    "            move = self.next()\n",
    "            print(f'{\"White\" if board.turn else \"Black\"} made a move: {move.uci()}')\n",
    "\n",
    "        # Check the result of the game\n",
    "        winner = \"\"\n",
    "        if board.is_checkmate():\n",
    "            if board.turn:\n",
    "                winner = \"Black\"\n",
    "            else:\n",
    "                winner = \"White\"\n",
    "        elif board.is_stalemate() or board.is_insufficient_material() or board.is_seventyfive_moves() or board.is_fivefold_repetition() or board.is_variant_draw():\n",
    "            winner = \"Draw\"\n",
    "\n",
    "        if winner == \"Black\":\n",
    "            return \"Black wins by checkmate.\"\n",
    "        elif winner == \"White\":\n",
    "            return \"White wins by checkmate.\"\n",
    "        else:\n",
    "            return \"The game is a draw.\""
   ]
  },
  {
   "cell_type": "code",
   "execution_count": 5,
   "metadata": {},
   "outputs": [],
   "source": [
    "chess_master = ChessGame()"
   ]
  },
  {
   "cell_type": "code",
   "execution_count": 6,
   "metadata": {},
   "outputs": [
    {
     "data": {
      "text/plain": [
       "Move.from_uci('e2e3')"
      ]
     },
     "execution_count": 6,
     "metadata": {},
     "output_type": "execute_result"
    }
   ],
   "source": [
    "chess_master.next(\"e2e3\")"
   ]
  },
  {
   "cell_type": "code",
   "execution_count": 7,
   "metadata": {},
   "outputs": [
    {
     "name": "stdout",
     "output_type": "stream",
     "text": [
      "r n b q k b n r\n",
      "p p p p p p p p\n",
      ". . . . . . . .\n",
      ". . . . . . . .\n",
      ". . . . . . . .\n",
      ". . . . P . . .\n",
      "P P P P . P P P\n",
      "R N B Q K B N R\n"
     ]
    }
   ],
   "source": [
    "chess_master.show_board()"
   ]
  },
  {
   "cell_type": "code",
   "execution_count": 8,
   "metadata": {},
   "outputs": [
    {
     "name": "stdout",
     "output_type": "stream",
     "text": [
      "\u001b[1m\u001b[95m [2024-08-01 13:16:53][DEBUG]: == Working Agent: Chess Grandmaster\u001b[00m\n",
      "\u001b[1m\u001b[95m [2024-08-01 13:16:53][INFO]: == Starting Task: Conduct a thorough analysis of board state rnbqkbnr/pppppppp/8/8/8/4P3/PPPP1PPP/RNBQKBNR b KQkq - 0 1 and moves history so far ['e2e3']\n",
      "    \t\t\tPredict the best next move\n",
      "    \t\t\tHere is the list of legal move:g8h6,g8f6,b8c6,b8a6,h7h6,g7g6,f7f6,e7e6,d7d6,c7c6,b7b6,a7a6,h7h5,g7g5,f7f5,e7e5,d7d5,c7c5,b7b5,a7a5\n",
      "\n",
      "    \t\t\tHere is the feedback \u001b[00m\n",
      "\n",
      "\n",
      "\u001b[1m> Entering new CrewAgentExecutor chain...\u001b[0m\n",
      "\u001b[32;1m\u001b[1;3mThought: I now can give a great answer\n",
      "\n",
      "Final Answer: e7e5\u001b[0m\n",
      "\n",
      "\u001b[1m> Finished chain.\u001b[0m\n",
      "\u001b[1m\u001b[92m [2024-08-01 13:16:56][DEBUG]: == [Chess Grandmaster] Task output: e7e5\n",
      "\n",
      "\u001b[00m\n"
     ]
    },
    {
     "data": {
      "text/plain": [
       "Move.from_uci('e7e5')"
      ]
     },
     "execution_count": 8,
     "metadata": {},
     "output_type": "execute_result"
    }
   ],
   "source": [
    "chess_master.next()"
   ]
  },
  {
   "cell_type": "code",
   "execution_count": 9,
   "metadata": {},
   "outputs": [
    {
     "name": "stdout",
     "output_type": "stream",
     "text": [
      "r n b q k b n r\n",
      "p p p p . p p p\n",
      ". . . . . . . .\n",
      ". . . . p . . .\n",
      ". . . . . . . .\n",
      ". . . . P . . .\n",
      "P P P P . P P P\n",
      "R N B Q K B N R\n"
     ]
    }
   ],
   "source": [
    "chess_master.show_board()"
   ]
  },
  {
   "cell_type": "code",
   "execution_count": null,
   "metadata": {},
   "outputs": [],
   "source": []
  }
 ],
 "metadata": {
  "kernelspec": {
   "display_name": "llama3",
   "language": "python",
   "name": "python3"
  },
  "language_info": {
   "codemirror_mode": {
    "name": "ipython",
    "version": 3
   },
   "file_extension": ".py",
   "mimetype": "text/x-python",
   "name": "python",
   "nbconvert_exporter": "python",
   "pygments_lexer": "ipython3",
   "version": "3.10.14"
  }
 },
 "nbformat": 4,
 "nbformat_minor": 2
}
